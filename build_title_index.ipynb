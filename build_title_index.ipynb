{
  "nbformat": 4,
  "nbformat_minor": 0,
  "metadata": {
    "colab": {
      "name": "build_title_index.ipynb",
      "provenance": [],
      "collapsed_sections": []
    },
    "kernelspec": {
      "name": "python3",
      "display_name": "Python 3"
    },
    "language_info": {
      "name": "python"
    }
  },
  "cells": [
    {
      "cell_type": "code",
      "source": [
        "import sys\n",
        "from collections import Counter, OrderedDict\n",
        "import itertools\n",
        "from itertools import islice, count, groupby\n",
        "import pandas as pd\n",
        "import os\n",
        "import re\n",
        "from operator import itemgetter\n",
        "import nltk\n",
        "from nltk.stem.porter import *\n",
        "from nltk.corpus import stopwords\n",
        "from time import time\n",
        "from timeit import timeit\n",
        "from pathlib import Path\n",
        "import pickle\n",
        "import pandas as pd\n",
        "import numpy as np\n",
        "from google.cloud import storage\n",
        "\n",
        "import hashlib\n",
        "def _hash(s):\n",
        "    return hashlib.blake2b(bytes(s, encoding='utf8'), digest_size=5).hexdigest()\n",
        "\n",
        "nltk.download('stopwords')\n",
        "\n",
        "from inverted_index_colab2 import *"
      ],
      "metadata": {
        "colab": {
          "base_uri": "https://localhost:8080/"
        },
        "id": "hvMx2igvDvqg",
        "outputId": "08644e95-5b07-46a6-c1b9-a69ede327892"
      },
      "execution_count": 2,
      "outputs": [
        {
          "output_type": "stream",
          "name": "stdout",
          "text": [
            "[nltk_data] Downloading package stopwords to /root/nltk_data...\n",
            "[nltk_data]   Package stopwords is already up-to-date!\n"
          ]
        }
      ]
    },
    {
      "cell_type": "code",
      "source": [
        "# These will already be installed in the testing environment so disregard the \n",
        "# amount of time (~1 minute) it takes to install.\n",
        "!pip install -q pyspark\n",
        "!pip install -U -q PyDrive\n",
        "!apt-get update -qq\n",
        "!apt install openjdk-8-jdk-headless -qq\n",
        "!pip install -q graphframes\n",
        "import os\n",
        "os.environ[\"JAVA_HOME\"] = \"/usr/lib/jvm/java-8-openjdk-amd64\"\n",
        "graphframes_jar = 'https://repos.spark-packages.org/graphframes/graphframes/0.8.2-spark3.2-s_2.12/graphframes-0.8.2-spark3.2-s_2.12.jar'\n",
        "spark_jars = '/usr/local/lib/python3.7/dist-packages/pyspark/jars'\n",
        "!wget -N -P $spark_jars $graphframes_jar"
      ],
      "metadata": {
        "colab": {
          "base_uri": "https://localhost:8080/"
        },
        "id": "s0Gvig9uD8FV",
        "outputId": "ee9054dc-06c1-46eb-fa64-929effb41e8b"
      },
      "execution_count": 3,
      "outputs": [
        {
          "output_type": "stream",
          "name": "stdout",
          "text": [
            "\u001b[K     |████████████████████████████████| 281.3 MB 37 kB/s \n",
            "\u001b[K     |████████████████████████████████| 198 kB 52.3 MB/s \n",
            "\u001b[?25h  Building wheel for pyspark (setup.py) ... \u001b[?25l\u001b[?25hdone\n",
            "The following additional packages will be installed:\n",
            "  openjdk-8-jre-headless\n",
            "Suggested packages:\n",
            "  openjdk-8-demo openjdk-8-source libnss-mdns fonts-dejavu-extra\n",
            "  fonts-ipafont-gothic fonts-ipafont-mincho fonts-wqy-microhei\n",
            "  fonts-wqy-zenhei fonts-indic\n",
            "The following NEW packages will be installed:\n",
            "  openjdk-8-jdk-headless openjdk-8-jre-headless\n",
            "0 upgraded, 2 newly installed, 0 to remove and 59 not upgraded.\n",
            "Need to get 36.5 MB of archives.\n",
            "After this operation, 143 MB of additional disk space will be used.\n",
            "Selecting previously unselected package openjdk-8-jre-headless:amd64.\n",
            "(Reading database ... 155225 files and directories currently installed.)\n",
            "Preparing to unpack .../openjdk-8-jre-headless_8u312-b07-0ubuntu1~18.04_amd64.deb ...\n",
            "Unpacking openjdk-8-jre-headless:amd64 (8u312-b07-0ubuntu1~18.04) ...\n",
            "Selecting previously unselected package openjdk-8-jdk-headless:amd64.\n",
            "Preparing to unpack .../openjdk-8-jdk-headless_8u312-b07-0ubuntu1~18.04_amd64.deb ...\n",
            "Unpacking openjdk-8-jdk-headless:amd64 (8u312-b07-0ubuntu1~18.04) ...\n",
            "Setting up openjdk-8-jre-headless:amd64 (8u312-b07-0ubuntu1~18.04) ...\n",
            "update-alternatives: using /usr/lib/jvm/java-8-openjdk-amd64/jre/bin/orbd to provide /usr/bin/orbd (orbd) in auto mode\n",
            "update-alternatives: using /usr/lib/jvm/java-8-openjdk-amd64/jre/bin/servertool to provide /usr/bin/servertool (servertool) in auto mode\n",
            "update-alternatives: using /usr/lib/jvm/java-8-openjdk-amd64/jre/bin/tnameserv to provide /usr/bin/tnameserv (tnameserv) in auto mode\n",
            "Setting up openjdk-8-jdk-headless:amd64 (8u312-b07-0ubuntu1~18.04) ...\n",
            "update-alternatives: using /usr/lib/jvm/java-8-openjdk-amd64/bin/idlj to provide /usr/bin/idlj (idlj) in auto mode\n",
            "update-alternatives: using /usr/lib/jvm/java-8-openjdk-amd64/bin/wsimport to provide /usr/bin/wsimport (wsimport) in auto mode\n",
            "update-alternatives: using /usr/lib/jvm/java-8-openjdk-amd64/bin/jsadebugd to provide /usr/bin/jsadebugd (jsadebugd) in auto mode\n",
            "update-alternatives: using /usr/lib/jvm/java-8-openjdk-amd64/bin/native2ascii to provide /usr/bin/native2ascii (native2ascii) in auto mode\n",
            "update-alternatives: using /usr/lib/jvm/java-8-openjdk-amd64/bin/javah to provide /usr/bin/javah (javah) in auto mode\n",
            "update-alternatives: using /usr/lib/jvm/java-8-openjdk-amd64/bin/hsdb to provide /usr/bin/hsdb (hsdb) in auto mode\n",
            "update-alternatives: using /usr/lib/jvm/java-8-openjdk-amd64/bin/clhsdb to provide /usr/bin/clhsdb (clhsdb) in auto mode\n",
            "update-alternatives: using /usr/lib/jvm/java-8-openjdk-amd64/bin/xjc to provide /usr/bin/xjc (xjc) in auto mode\n",
            "update-alternatives: using /usr/lib/jvm/java-8-openjdk-amd64/bin/schemagen to provide /usr/bin/schemagen (schemagen) in auto mode\n",
            "update-alternatives: using /usr/lib/jvm/java-8-openjdk-amd64/bin/extcheck to provide /usr/bin/extcheck (extcheck) in auto mode\n",
            "update-alternatives: using /usr/lib/jvm/java-8-openjdk-amd64/bin/jhat to provide /usr/bin/jhat (jhat) in auto mode\n",
            "update-alternatives: using /usr/lib/jvm/java-8-openjdk-amd64/bin/wsgen to provide /usr/bin/wsgen (wsgen) in auto mode\n",
            "\u001b[K     |████████████████████████████████| 154 kB 38.0 MB/s \n",
            "\u001b[?25h--2022-01-06 21:12:58--  https://repos.spark-packages.org/graphframes/graphframes/0.8.2-spark3.2-s_2.12/graphframes-0.8.2-spark3.2-s_2.12.jar\n",
            "Resolving repos.spark-packages.org (repos.spark-packages.org)... 52.85.146.12, 52.85.146.3, 52.85.146.59, ...\n",
            "Connecting to repos.spark-packages.org (repos.spark-packages.org)|52.85.146.12|:443... connected.\n",
            "HTTP request sent, awaiting response... 200 OK\n",
            "Length: 247880 (242K) [binary/octet-stream]\n",
            "Saving to: ‘/usr/local/lib/python3.7/dist-packages/pyspark/jars/graphframes-0.8.2-spark3.2-s_2.12.jar’\n",
            "\n",
            "graphframes-0.8.2-s 100%[===================>] 242.07K  --.-KB/s    in 0.006s  \n",
            "\n",
            "2022-01-06 21:12:58 (41.6 MB/s) - ‘/usr/local/lib/python3.7/dist-packages/pyspark/jars/graphframes-0.8.2-spark3.2-s_2.12.jar’ saved [247880/247880]\n",
            "\n"
          ]
        }
      ]
    },
    {
      "cell_type": "code",
      "source": [
        "import pyspark\n",
        "from pyspark.sql import *\n",
        "from pyspark.sql.functions import *\n",
        "from pyspark import SparkContext, SparkConf\n",
        "from pyspark.sql import SQLContext\n",
        "from pyspark.ml.feature import Tokenizer, RegexTokenizer\n",
        "from graphframes import *"
      ],
      "metadata": {
        "id": "gg_yj_mSFk5r"
      },
      "execution_count": 4,
      "outputs": []
    },
    {
      "cell_type": "code",
      "source": [
        "# Initializing spark context\n",
        "# create a spark context and session\n",
        "conf = SparkConf().set(\"spark.ui.port\", \"4050\")\n",
        "sc = pyspark.SparkContext(conf=conf)\n",
        "sc.addPyFile(str(Path(spark_jars) / Path(graphframes_jar).name))\n",
        "spark = SparkSession.builder.getOrCreate()"
      ],
      "metadata": {
        "id": "XCWvXFo9F54G"
      },
      "execution_count": 5,
      "outputs": []
    },
    {
      "cell_type": "markdown",
      "source": [
        "copy some wiki data"
      ],
      "metadata": {
        "id": "iEfneaVx8x0s"
      }
    },
    {
      "cell_type": "code",
      "source": [
        "# Authenticate your user\n",
        "# The authentication should be done with the email connected to your GCP account\n",
        "from google.colab import auth\n",
        "auth.authenticate_user()"
      ],
      "metadata": {
        "id": "xqoiw-ct83Vp"
      },
      "execution_count": 6,
      "outputs": []
    },
    {
      "cell_type": "code",
      "source": [
        "# Copy one wikidumps files \n",
        "import os\n",
        "from pathlib import Path\n",
        "from google.colab import auth\n",
        "\n",
        "project_id = 'core-period-321814'\n",
        "!gcloud config set project {project_id}\n",
        "\n",
        "data_bucket_name = 'wikidata_preprocessed'\n",
        "try:\n",
        "    if os.environ[\"wikidata_preprocessed\"] is not None:\n",
        "        pass  \n",
        "except:\n",
        "      !mkdir wikidumps\n",
        "      !gsutil cp gs://{data_bucket_name}/multistream1_preprocessed.parquet \"wikidumps/\" "
      ],
      "metadata": {
        "id": "mW6iZUEO9IQ_",
        "colab": {
          "base_uri": "https://localhost:8080/"
        },
        "outputId": "43276cda-3248-48ef-b37f-e0cd3cd581d2"
      },
      "execution_count": 7,
      "outputs": [
        {
          "output_type": "stream",
          "name": "stdout",
          "text": [
            "Updated property [core/project].\n",
            "\u001b[1;33mWARNING:\u001b[0m You do not appear to have access to project [core-period-321814] or it does not exist.\n",
            "\n",
            "\n",
            "To take a quick anonymous survey, run:\n",
            "  $ gcloud survey\n",
            "\n",
            "Copying gs://wikidata_preprocessed/multistream1_preprocessed.parquet...\n",
            "/ [1 files][316.7 MiB/316.7 MiB]                                                \n",
            "Operation completed over 1 objects/316.7 MiB.                                    \n"
          ]
        }
      ]
    },
    {
      "cell_type": "code",
      "source": [
        "from pathlib import Path \n",
        "import os\n",
        "\n",
        "try:\n",
        "    if os.environ[\"wikidata_preprocessed\"] is not None:\n",
        "      path = os.environ[\"wikidata_preprocessed\"]+\"/wikidumps/*\"\n",
        "except:\n",
        "      path = \"wikidumps/*\"\n",
        "\n",
        "parquetFile = spark.read.parquet(path)\n",
        "doc_title_pairs = parquetFile.limit(1000).select(\"title\", \"id\").rdd\n",
        "d_d_t_pairs = doc_title_pairs.map(lambda x: (x[1], (x[1], x[0])))\n",
        "# create dict of (id, title)\n",
        "doc_title_dict = d_d_t_pairs.collectAsMap()\n",
        "print(doc_title_dict)"
      ],
      "metadata": {
        "id": "jp3KDzAG9P9K",
        "colab": {
          "base_uri": "https://localhost:8080/"
        },
        "outputId": "c32e7f49-14da-476b-a59d-d6720cb588a5"
      },
      "execution_count": 28,
      "outputs": [
        {
          "output_type": "stream",
          "name": "stdout",
          "text": [
            "{12: (12, 'Anarchism'), 25: (25, 'Autism'), 39: (39, 'Albedo'), 290: (290, 'A'), 303: (303, 'Alabama'), 305: (305, 'Achilles'), 307: (307, 'Abraham Lincoln'), 308: (308, 'Aristotle'), 309: (309, 'An American in Paris'), 316: (316, 'Academy Award for Best Production Design'), 324: (324, 'Academy Awards'), 330: (330, 'Actrius'), 332: (332, 'Animalia (book)'), 334: (334, 'International Atomic Time'), 336: (336, 'Altruism'), 339: (339, 'Ayn Rand'), 340: (340, 'Alain Connes'), 344: (344, 'Allan Dwan'), 358: (358, 'Algeria'), 359: (359, 'List of Atlas Shrugged characters'), 569: (569, 'Anthropology'), 572: (572, 'Agricultural science'), 573: (573, 'Alchemy'), 579: (579, 'Alien'), 580: (580, 'Astronomer'), 586: (586, 'ASCII'), 590: (590, 'Austin (disambiguation)'), 593: (593, 'Animation'), 594: (594, 'Apollo'), 595: (595, 'Andre Agassi'), 597: (597, 'Austroasiatic languages'), 599: (599, 'Afroasiatic languages'), 600: (600, 'Andorra'), 612: (612, 'Arithmetic mean'), 615: (615, 'American Football Conference'), 620: (620, 'Animal Farm'), 621: (621, 'Amphibian'), 624: (624, 'Alaska'), 627: (627, 'Agriculture'), 628: (628, 'Aldous Huxley'), 630: (630, 'Ada'), 632: (632, 'Aberdeen (disambiguation)'), 633: (633, 'Algae'), 634: (634, 'Analysis of variance'), 639: (639, 'Alkane'), 640: (640, 'Appellate procedure in the United States'), 642: (642, 'Answer (law)'), 643: (643, 'Appellate court'), 649: (649, 'Arraignment'), 651: (651, 'America the Beautiful'), 653: (653, 'Assistive technology'), 655: (655, 'Abacus'), 656: (656, 'Acid'), 657: (657, 'Asphalt'), 659: (659, 'American National Standards Institute'), 661: (661, 'Argument (disambiguation)'), 662: (662, 'Apollo 11'), 663: (663, 'Apollo 8'), 664: (664, 'Astronaut'), 665: (665, 'A Modest Proposal'), 666: (666, 'Alkali metal'), 670: (670, 'Alphabet'), 673: (673, 'Atomic number'), 674: (674, 'Anatomy'), 675: (675, 'Affirming the consequent'), 676: (676, 'Andrei Tarkovsky'), 677: (677, 'Ambiguity'), 678: (678, 'Abel'), 679: (679, 'Animal (disambiguation)'), 680: (680, 'Aardvark'), 681: (681, 'Aardwolf'), 682: (682, 'Adobe'), 683: (683, 'Adventure'), 689: (689, 'Asia'), 690: (690, 'Aruba'), 691: (691, 'Articles of Confederation'), 694: (694, 'Asia Minor (disambiguation)'), 698: (698, 'Atlantic Ocean'), 700: (700, 'Arthur Schopenhauer'), 701: (701, 'Angola'), 704: (704, 'Demographics of Angola'), 705: (705, 'Politics of Angola'), 706: (706, 'Economy of Angola'), 708: (708, 'Transport in Angola'), 709: (709, 'Angolan Armed Forces'), 710: (710, 'Foreign relations of Angola'), 711: (711, 'Albert Sidney Johnston'), 713: (713, 'Android (robot)'), 717: (717, 'Alberta'), 728: (728, 'List of anthropologists'), 734: (734, 'Actinopterygii'), 736: (736, 'Albert Einstein'), 737: (737, 'Afghanistan'), 738: (738, 'Albania'), 740: (740, 'Allah'), 742: (742, 'Algorithms (journal)'), 746: (746, 'Azerbaijan'), 748: (748, 'Amateur astronomy'), 751: (751, 'Aikido'), 752: (752, 'Art'), 764: (764, 'Agnostida'), 765: (765, 'Abortion'), 766: (766, 'Abstract (law)'), 771: (771, 'American Revolutionary War'), 772: (772, 'Ampere'), 775: (775, 'Algorithm'), 777: (777, 'Annual plant'), 779: (779, 'Anthophyta'), 780: (780, 'Atlas (disambiguation)'), 782: (782, 'Mouthwash'), 783: (783, 'Alexander the Great'), 784: (784, 'Alfred Korzybski'), 785: (785, 'Asteroids (video game)'), 786: (786, 'Asparagales'), 787: (787, 'Alismatales'), 788: (788, 'Apiales'), 789: (789, 'Asterales'), 791: (791, 'Asteroid'), 794: (794, 'Allocution'), 795: (795, 'Affidavit'), 798: (798, 'Aries (constellation)'), 799: (799, 'Aquarius (constellation)'), 800: (800, 'Anime'), 801: (801, 'Asterism'), 802: (802, 'Ankara'), 803: (803, 'Arabic'), 808: (808, 'Alfred Hitchcock'), 809: (809, 'Anaconda'), 824: (824, 'Altaic languages'), 825: (825, 'Austrian German'), 840: (840, 'Axiom of choice'), 841: (841, 'Attila'), 842: (842, 'Aegean Sea'), 843: (843, 'A Clockwork Orange (novel)'), 844: (844, 'Amsterdam'), 846: (846, 'Museum of Work'), 848: (848, 'Audi'), 849: (849, 'Aircraft'), 851: (851, 'Alfred Nobel'), 852: (852, 'Alexander Graham Bell'), 854: (854, 'Anatolia'), 856: (856, 'Apple Inc.'), 857: (857, 'Aberdeenshire'), 859: (859, 'Aztlan Underground'), 863: (863, 'American Civil War'), 864: (864, 'Andy Warhol'), 868: (868, 'Alp Arslan'), 869: (869, 'American Film Institute'), 872: (872, 'Akira Kurosawa'), 874: (874, 'Ancient Egypt'), 875: (875, 'Analog Brothers'), 876: (876, 'Motor neuron disease'), 877: (877, 'Abjad'), 878: (878, 'Abugida'), 880: (880, 'ABBA'), 881: (881, 'Allegiance'), 885: (885, 'Altenberg'), 887: (887, 'MessagePad'), 888: (888, 'A. E. van Vogt'), 890: (890, 'Anna Kournikova'), 892: (892, 'Alfons Maria Jakob'), 894: (894, 'Agnosticism'), 896: (896, 'Argon'), 897: (897, 'Arsenic'), 898: (898, 'Antimony'), 899: (899, 'Actinium'), 900: (900, 'Americium'), 901: (901, 'Astatine'), 902: (902, 'Atom'), 903: (903, 'Arable land'), 904: (904, 'Aluminium'), 905: (905, 'Advanced Chemistry'), 909: (909, 'Anglican Communion'), 910: (910, 'Arne Kaijser'), 911: (911, 'Archipelago'), 914: (914, 'Author'), 915: (915, 'Andrey Markov'), 921: (921, 'Angst'), 922: (922, 'Anxiety'), 924: (924, 'A. A. Milne'), 925: (925, 'Asociación Alumni'), 928: (928, 'Axiom'), 929: (929, 'Alpha'), 930: (930, 'Alvin Toffler'), 931: (931, 'The Amazing Spider-Man'), 933: (933, 'AM'), 951: (951, 'Antigua and Barbuda'), 953: (953, 'Azincourt'), 954: (954, 'Albert Speer'), 956: (956, 'Asteraceae'), 957: (957, 'Apiaceae'), 958: (958, 'Axon'), 960: (960, 'Aramaic alphabet'), 966: (966, 'American shot'), 967: (967, 'Acute disseminated encephalomyelitis'), 969: (969, 'Ataxia'), 974: (974, 'Ada Lovelace'), 980: (980, 'August Derleth'), 981: (981, 'Alps'), 983: (983, 'Albert Camus'), 984: (984, 'Agatha Christie'), 986: (986, 'The Plague'), 988: (988, 'Applied ethics'), 991: (991, 'Absolute value'), 993: (993, 'Analog signal'), 994: (994, 'Arecales'), 1000: (1000, 'Hercule Poirot'), 1002: (1002, 'Miss Marple'), 1004: (1004, 'April'), 1005: (1005, 'August'), 1006: (1006, 'Aaron'), 1008: (1008, 'April 6'), 1009: (1009, 'April 12'), 1010: (1010, 'April 15'), 1011: (1011, 'April 30'), 1012: (1012, 'August 22'), 1013: (1013, 'August 27'), 1014: (1014, 'Alcohol'), 1016: (1016, 'Achill Island'), 1017: (1017, 'Allen Ginsberg'), 1018: (1018, 'Algebraically closed field'), 1019: (1019, 'August 6'), 1020: (1020, 'Anatoly Karpov'), 1021: (1021, 'Aspect ratio'), 1022: (1022, 'Auto racing'), 1023: (1023, 'Anarcho-capitalism'), 1027: (1027, 'August 9'), 1028: (1028, 'Aristophanes'), 1029: (1029, 'Albert Schweitzer'), 1030: (1030, 'Austrian School'), 1032: (1032, 'Abscess'), 1036: (1036, 'Aalborg Municipality'), 1038: (1038, 'Aarhus'), 1043: (1043, 'Northern cavefish'), 1046: (1046, 'Abatement'), 1049: (1049, 'Amateur'), 1051: (1051, 'Alexis Carrel'), 1055: (1055, \"All Souls' Day\"), 1057: (1057, 'Anatole France'), 1058: (1058, 'André Gide'), 1063: (1063, 'Algorithms for calculating variance'), 1064: (1064, 'Almond'), 1069: (1069, 'Demographics of Antigua and Barbuda'), 1070: (1070, 'Politics of Antigua and Barbuda'), 1072: (1072, 'Telecommunications in Antigua and Barbuda'), 1074: (1074, 'Royal Antigua and Barbuda Defence Force'), 1078: (1078, 'Antisemitism'), 1081: (1081, 'Economy of Azerbaijan'), 1082: (1082, 'Geography of Azerbaijan'), 1087: (1087, 'Foreign relations of Azerbaijan'), 1088: (1088, 'Azerbaijani Armed Forces'), 1091: (1091, 'Geography of Armenia'), 1092: (1092, 'Demographics of Armenia'), 1093: (1093, 'Politics of Armenia'), 1094: (1094, 'Economy of Armenia'), 1096: (1096, 'Transport in Armenia'), 1097: (1097, 'Armed Forces of Armenia'), 1098: (1098, 'Foreign relations of Armenia'), 1110: (1110, 'Demographics of American Samoa'), 1111: (1111, 'Politics of American Samoa'), 1112: (1112, 'Economy of American Samoa'), 1129: (1129, 'August 13'), 1130: (1130, 'Avicenna'), 1132: (1132, 'The Ashes'), 1134: (1134, 'Analysis'), 1135: (1135, 'Abner Doubleday'), 1136: (1136, \"America's National Game\"), 1140: (1140, 'Amplitude modulation'), 1141: (1141, 'Augustin-Jean Fresnel'), 1143: (1143, 'Abbot'), 1144: (1144, 'Ardipithecus'), 1146: (1146, 'Assembly line'), 1148: (1148, 'Adelaide'), 1152: (1152, 'Alan Garner'), 1154: (1154, 'August 2'), 1155: (1155, 'Atlantic (disambiguation)'), 1158: (1158, 'Algebraic number'), 1160: (1160, 'Automorphism'), 1162: (1162, 'Accordion'), 1164: (1164, 'Artificial intelligence'), 1166: (1166, 'Afro Celt Sound System'), 1167: (1167, 'Ancient philosophy'), 1168: (1168, 'Anaximander'), 1169: (1169, 'APL'), 1170: (1170, 'Architect'), 1171: (1171, 'Abbreviation'), 1174: (1174, 'Aphrodite'), 1175: (1175, 'April 1'), 1176: (1176, 'Antisymmetric relation'), 1177: (1177, 'Aleister Crowley'), 1178: (1178, 'Afterlife'), 1181: (1181, 'Astrometry'), 1182: (1182, 'Athena'), 1183: (1183, 'Amber Diceless Roleplaying Game'), 1184: (1184, 'Athene (disambiguation)'), 1187: (1187, 'Alloy'), 1192: (1192, 'Artistic revolution'), 1193: (1193, 'Agrarianism'), 1194: (1194, 'Atomic'), 1196: (1196, 'Angle'), 1197: (1197, 'Asa'), 1198: (1198, 'Acoustics'), 1200: (1200, 'Atomic physics'), 1201: (1201, 'American Sign Language'), 1202: (1202, 'Applet'), 1203: (1203, 'Alternate history'), 1206: (1206, 'Atomic orbital'), 1207: (1207, 'Amino acid'), 1208: (1208, 'Alan Turing'), 1209: (1209, 'Area'), 1210: (1210, 'Astronomical unit'), 1212: (1212, 'Artist'), 1213: (1213, 'Actaeon'), 1214: (1214, 'Anglicanism'), 1216: (1216, 'Athens'), 1217: (1217, 'Anguilla'), 1223: (1223, 'Telecommunications in Anguilla'), 1227: (1227, 'Ashmore and Cartier Islands'), 1234: (1234, 'Acoustic theory'), 1235: (1235, 'Alexander Mackenzie (politician)'), 1239: (1239, 'Ashoka'), 1241: (1241, 'American (word)'), 1242: (1242, 'Ada (programming language)'), 1247: (1247, 'Alfonso Cuarón'), 1252: (1252, 'Arianism'), 1254: (1254, 'August 1'), 1256: (1256, 'Antoninus Pius'), 1259: (1259, 'August 3'), 1260: (1260, 'Advanced Encryption Standard'), 1261: (1261, 'April 26'), 1264: (1264, 'Anisotropy'), 1267: (1267, 'Alpha decay'), 1270: (1270, 'Extreme poverty'), 1271: (1271, 'Analytical Engine'), 1273: (1273, 'Augustus'), 1274: (1274, 'Geography of Antarctica'), 1279: (1279, 'Transport in Antarctica'), 1285: (1285, 'Geography of Alabama'), 1286: (1286, 'List of governors of Alabama'), 1288: (1288, 'Apocrypha'), 1291: (1291, 'Antarctic Treaty System'), 1293: (1293, 'Alfred Lawson'), 1298: (1298, 'Ames, Iowa'), 1300: (1300, 'Abalone'), 1301: (1301, 'Abbess'), 1303: (1303, 'Abdominal surgery'), 1304: (1304, 'Abduction'), 1305: (1305, 'Abensberg'), 1306: (1306, 'Arminianism'), 1307: (1307, 'The Alan Parsons Project'), 1309: (1309, 'Almost all'), 1313: (1313, 'Aromatic compound'), 1315: (1315, 'Abbey'), 1316: (1316, 'Annales school'), 1317: (1317, 'Antimatter'), 1322: (1322, 'Casa Batlló'), 1324: (1324, 'Park Güell'), 1325: (1325, 'Casa Milà'), 1327: (1327, 'Antiparticle'), 1331: (1331, 'Arabian Prince'), 1332: (1332, 'August 7'), 1333: (1333, 'August 8'), 1334: (1334, 'April 16'), 1335: (1335, 'Associative property'), 1336: (1336, 'The Apache Software Foundation'), 1338: (1338, 'Americans with Disabilities Act of 1990'), 1344: (1344, 'Apple I'), 1346: (1346, 'Apatosaurus'), 1347: (1347, 'Allosaurus'), 1348: (1348, 'AK-47'), 1349: (1349, 'Atanasoff–Berry computer'), 1354: (1354, 'Andes'), 1356: (1356, 'Ancylopoda'), 1358: (1358, 'Anchor'), 1359: (1359, 'Anbar (town)'), 1360: (1360, 'Anazarbus'), 1361: (1361, 'Anagram'), 1362: (1362, 'Anadyr (river)'), 1363: (1363, 'André-Marie Ampère'), 1365: (1365, 'Ammonia'), 1366: (1366, 'Amethyst'), 1367: (1367, 'Albertosaurus'), 1368: (1368, 'Assembly language'), 1369: (1369, 'Ambrosia'), 1370: (1370, 'Ambrose'), 1371: (1371, 'Ambracia'), 1372: (1372, 'Amber'), 1373: (1373, 'Amalaric'), 1374: (1374, 'Alphorn'), 1376: (1376, 'Army'), 1380: (1380, 'Alligatoridae'), 1383: (1383, 'Alder'), 1384: (1384, 'Amos Bronson Alcott'), 1386: (1386, 'Arachnophobia'), 1387: (1387, 'Alabaster'), 1389: (1389, 'Ahab'), 1391: (1391, 'ASIC (disambiguation)'), 1392: (1392, 'Dasyproctidae'), 1394: (1394, 'Algol'), 1395: (1395, 'Amazing Grace'), 1397: (1397, 'AOL'), 1400: (1400, 'Anno Domini'), 1404: (1404, 'AV'), 1408: (1408, 'Alcuin'), 1409: (1409, 'Angilbert'), 1412: (1412, 'Amine'), 1416: (1416, 'April 29'), 1417: (1417, 'August 14'), 1418: (1418, 'Absolute zero'), 1419: (1419, 'Adiabatic process'), 1422: (1422, 'Amide'), 1423: (1423, 'Animism'), 1425: (1425, 'Antonio Vivaldi'), 1428: (1428, 'Adrian'), 1433: (1433, 'Aare'), 1435: (1435, 'Abbotsford, Scottish Borders'), 1436: (1436, 'Abraham'), 1437: (1437, 'Abraxas'), 1438: (1438, 'Absalom'), 1439: (1439, 'Abydos'), 1440: (1440, 'Abydos, Egypt'), 1441: (1441, 'Abydos (Hellespont)'), 1442: (1442, 'August 15'), 1445: (1445, 'Acacia sensu lato'), 1446: (1446, 'Acapulco'), 1448: (1448, 'August 16'), 1449: (1449, 'Alan Kay'), 1451: (1451, 'APL (programming language)'), 1453: (1453, 'ALGOL'), 1456: (1456, 'AWK'), 1460: (1460, 'Asgard'), 1461: (1461, 'Apollo program'), 1466: (1466, 'Assault'), 1478: (1478, 'Álfheimr'), 1482: (1482, 'Ask and Embla'), 1484: (1484, 'Alabama River'), 1485: (1485, 'Alain de Lille'), 1486: (1486, 'Alemanni'), 1488: (1488, 'NYSE American'), 1490: (1490, 'August 17'), 1491: (1491, 'August 12'), 1494: (1494, 'Alfred Russel Wallace'), 1495: (1495, 'Australian Labor Party'), 1496: (1496, 'August 18'), 1497: (1497, 'August 19'), 1499: (1499, 'August 21'), 1500: (1500, \"Dodo (Alice's Adventures in Wonderland)\"), 1501: (1501, 'Lory (disambiguation)'), 1504: (1504, 'Albert'), 1505: (1505, 'Albert I'), 1506: (1506, 'Albert II'), 1507: (1507, 'Albert III'), 1508: (1508, 'Albert Alcibiades, Margrave of Brandenburg-Kulmbach'), 1509: (1509, 'Albert the Bear'), 1513: (1513, 'Albert of Brandenburg'), 1514: (1514, 'Albert, Duke of Prussia'), 1519: (1519, 'August 25'), 1520: (1520, 'Aachen'), 1523: (1523, 'Agate'), 1525: (1525, 'Aspirin'), 1526: (1526, 'Abner'), 1527: (1527, 'Ahmed I'), 1528: (1528, 'Ahmed II'), 1529: (1529, 'Ahmed III'), 1530: (1530, 'Ainu people'), 1536: (1536, 'Acropolis'), 1537: (1537, 'Acupuncture'), 1538: (1538, 'Adder'), 1540: (1540, 'Aeneas'), 1541: (1541, 'April 13'), 1542: (1542, 'Amaranth'), 1543: (1543, 'Agapanthus africanus'), 1544: (1544, 'Agamemnon'), 1545: (1545, 'Aga Khan I'), 1546: (1546, 'Aga Khan III'), 1547: (1547, 'Agasias'), 1548: (1548, 'Alexander Agassiz'), 1549: (1549, 'Agathon'), 1550: (1550, 'Agesilaus II'), 1551: (1551, 'Agis'), 1552: (1552, 'Antonio Agliardi'), 1553: (1553, 'Agnes of Merania'), 1556: (1556, 'Agrippina the Elder'), 1557: (1557, 'Agrippina the Younger'), 1558: (1558, 'American Chinese cuisine'), 1559: (1559, 'Ahenobarbus'), 1560: (1560, 'Ahmad Shah Durrani'), 1563: (1563, 'Arthur Aikin'), 1564: (1564, 'Ailanthus'), 1565: (1565, 'Aimoin'), 1566: (1566, 'Akkadian Empire'), 1567: (1567, 'Ajax the Lesser'), 1568: (1568, 'Ajax the Great'), 1569: (1569, 'Ajax'), 1570: (1570, 'Alaric I'), 1571: (1571, 'Alaric II'), 1573: (1573, 'Albertus Magnus'), 1575: (1575, 'Alboin'), 1576: (1576, 'Afonso de Albuquerque'), 1577: (1577, 'Alcaeus of Mytilene'), 1578: (1578, 'Alcamenes'), 1579: (1579, 'Alcmene'), 1580: (1580, 'Alcidamas'), 1581: (1581, 'Aldine Press'), 1583: (1583, 'Ealdred (Archbishop of York)'), 1585: (1585, 'Alexander I of Epirus'), 1586: (1586, 'Alexander Balas'), 1587: (1587, 'Alexander of Pherae'), 1588: (1588, 'Alexander II of Epirus'), 1589: (1589, 'Alexander Jagiellon'), 1592: (1592, 'Alexander III of Russia'), 1593: (1593, 'Alexander I of Scotland'), 1594: (1594, 'Alexander II of Scotland'), 1595: (1595, 'Alexander I of Serbia'), 1596: (1596, 'Alexander III of Scotland'), 1597: (1597, 'Alexander of Greece (disambiguation)'), 1599: (1599, 'Alexander of Aphrodisias'), 1600: (1600, 'Severus Alexander'), 1601: (1601, 'Alexander'), 1602: (1602, 'Alexander I'), 1603: (1603, 'Alexander II'), 1604: (1604, 'Alexander III'), 1605: (1605, 'Alexander Aetolus'), 1606: (1606, 'Alexander Jannaeus'), 1607: (1607, 'Alexander IV'), 1608: (1608, 'Alexander V'), 1612: (1612, 'Alexandrists'), 1613: (1613, 'Alexios I Komnenos'), 1614: (1614, 'Alexis (poet)'), 1615: (1615, 'Alexios II Komnenos'), 1616: (1616, 'Alexios III Angelos'), 1617: (1617, 'Alexios V Doukas'), 1620: (1620, 'Alexei Petrovich, Tsarevich of Russia'), 1623: (1623, 'Andrew Jackson'), 1624: (1624, 'Andrew Johnson'), 1625: (1625, 'Aleksandr Solzhenitsyn'), 1627: (1627, 'Aberdeen'), 1628: (1628, 'August 23'), 1629: (1629, 'August 24'), 1633: (1633, 'Antipope'), 1634: (1634, 'Aquaculture'), 1635: (1635, 'Kolmogorov complexity'), 1637: (1637, 'Hymn to Proserpine'), 1638: (1638, 'The Triumph of Time'), 1639: (1639, 'April 28'), 1640: (1640, 'Alfred the Great'), 1642: (1642, 'Alessandro Algardi'), 1643: (1643, 'Alger of Liège'), 1644: (1644, 'Algiers'), 1645: (1645, 'Ibn al-Haytham'), 1647: (1647, 'Alessandro Allori'), 1649: (1649, 'Almoravid dynasty'), 1650: (1650, 'Aloe'), 1652: (1652, 'Alyattes of Lydia'), 1653: (1653, 'Age of consent'), 1654: (1654, 'Alypius of Antioch'), 1655: (1655, 'Amalasuintha'), 1656: (1656, 'Amalric of Bena'), 1657: (1657, 'Afonso I of Portugal'), 1658: (1658, 'Afonso II of Portugal'), 1659: (1659, 'Afonso III of Portugal'), 1660: (1660, 'Afonso IV of Portugal'), 1661: (1661, 'Afonso V of Portugal'), 1662: (1662, 'Afonso VI of Portugal'), 1663: (1663, 'Alphonso I of Spain'), 1664: (1664, 'Alfonso II of Asturias'), 1669: (1669, 'Amarasimha'), 1676: (1676, 'Alfonso XII'), 1677: (1677, 'Alfonso XIII'), 1679: (1679, 'Alfonso the Battler'), 1680: (1680, 'Amaryllis'), 1683: (1683, 'Alfonso III of Aragon'), 1684: (1684, 'Alfonso IV of Aragon'), 1685: (1685, 'Amasis II'), 1686: (1686, 'Alfonso V of Aragon'), 1687: (1687, 'Amathus'), 1688: (1688, 'Alphons'), 1689: (1689, 'Alfonso I'), 1690: (1690, 'Amati'), 1691: (1691, 'Alfonso II'), 1692: (1692, 'Alfonso III'), 1694: (1694, 'Alfonso IV'), 1695: (1695, 'Amazons'), 1696: (1696, 'Alfonso V'), 1697: (1697, 'Ambergris'), 1698: (1698, 'Ambiorix'), 1700: (1700, 'August Wilhelm Ambros'), 1701: (1701, 'Amazon River'), 1702: (1702, 'Alfred of Beverley'), 1710: (1710, 'April 22'), 1711: (1711, 'August 31'), 1714: (1714, 'Autpert Ambrose'), 1715: (1715, 'Abu Bakr'), 1716: (1716, 'Ambrose Traversari'), 1717: (1717, 'Ambrosians'), 1718: (1718, 'Ambrosiaster'), 1719: (1719, 'Ambrosius Aurelianus'), 1722: (1722, 'Ammon'), 1723: (1723, 'Ammonius Hermiae'), 1724: (1724, 'Ammonius Saccas'), 1726: (1726, 'Book of Amos'), 1727: (1727, 'Amphipolis'), 1728: (1728, 'Amram'), 1729: (1729, 'Amyntas I of Macedon'), 1730: (1730, 'Amyntas III of Macedon'), 1732: (1732, 'Anacharsis'), 1734: (1734, 'Anah'), 1735: (1735, 'Ānanda'), 1737: (1737, 'Anaxagoras'), 1738: (1738, 'Anaxarchus'), 1740: (1740, 'Ancyra (planthopper)'), 1742: (1742, 'Anastasius I'), 1743: (1743, 'Anastasius II'), 1746: (1746, 'Anaximenes of Lampsacus'), 1747: (1747, 'Anastasius'), 1748: (1748, 'Anaximenes of Miletus'), 1749: (1749, 'Ancus Marcius'), 1750: (1750, 'Andaman Islands'), 1751: (1751, 'Alexander Anderson (mathematician)'), 1752: (1752, 'Andocides'), 1754: (1754, 'Andrea Andreani'), 1755: (1755, 'Andrew II of Hungary'), 1756: (1756, 'An Enquiry Concerning Human Understanding'), 1758: (1758, 'André de Longjumeau'), 1759: (1759, 'Andriscus'), 1760: (1760, 'Andronikos III Palaiologos'), 1761: (1761, 'Andronikos II Palaiologos'), 1762: (1762, 'Andronikos I Komnenos'), 1763: (1763, 'Andronicus of Cyrrhus'), 1764: (1764, 'Andronicus of Rhodes'), 1765: (1765, 'Andronicus'), 1767: (1767, 'Ammianus Marcellinus'), 1770: (1770, 'Apollo 13'), 1773: (1773, 'Apollo 7'), 1774: (1774, 'Apollo 9'), 1776: (1776, 'Arthritis'), 1777: (1777, 'April 2'), 1778: (1778, 'Acetylene'), 1779: (1779, 'Alfred'), 1781: (1781, 'August 28'), 1786: (1786, 'Arabic numerals'), 1787: (1787, 'April 9'), 1788: (1788, 'ABM'), 1789: (1789, 'Apuleius'), 1790: (1790, 'Alexander Selkirk'), 1791: (1791, 'Anti-ballistic missile'), 1793: (1793, 'August 29'), 1794: (1794, 'August 30'), 1797: (1797, 'Acre'), 1799: (1799, 'ATP'), 1800: (1800, 'Adenosine triphosphate'), 1802: (1802, 'Ægir'), 1805: (1805, 'Antibiotic'), 1806: (1806, 'Arnold Schwarzenegger'), 1807: (1807, 'ASA'), 1810: (1810, 'Actium'), 1812: (1812, 'Amway'), 1814: (1814, 'Adam Smith'), 1822: (1822, 'Antoine Lavoisier'), 1825: (1825, 'Hermann Kolbe'), 1826: (1826, 'April 18'), 1827: (1827, 'April 23'), 1828: (1828, 'Amitabh Bachchan'), 1832: (1832, 'Allomorph'), 1834: (1834, 'Allophone'), 1835: (1835, 'Affix'), 1837: (1837, 'Allegory'), 1839: (1839, 'Allotropy'), 1840: (1840, 'Agathocles of Syracuse'), 1841: (1841, 'Economy of Alberta'), 1842: (1842, 'Augustin-Louis Cauchy'), 1844: (1844, 'Archimedes'), 1845: (1845, 'Alternative medicine'), 1847: (1847, 'Archimedean solid'), 1851: (1851, 'Antiprism'), 1853: (1853, 'Natural history of Africa'), 1854: (1854, 'Geography of Africa'), 1857: (1857, 'Approval voting'), 1859: (1859, 'Arizona State University'), 1862: (1862, 'April 14'), 1864: (1864, 'Astoria, Oregon'), 1866: (1866, 'Alarums and Excursions'), 1869: (1869, 'Alfred Jarry'), 1870: (1870, 'Amalric'), 1871: (1871, 'Amalric of Jerusalem'), 1872: (1872, 'Aimery of Cyprus'), 1873: (1873, 'Anthemius of Tralles'), 1874: (1874, 'Absalon'), 1875: (1875, 'Adhemar of Le Puy'), 1878: (1878, 'Alphonse, Count of Poitiers'), 1879: (1879, 'Alfonso Jordan'), 1880: (1880, 'Ambroise'), 1881: (1881, 'Art Deco'), 1884: (1884, 'ASCII art'), 1887: (1887, 'Alexius'), 1890: (1890, 'American English'), 1893: (1893, 'Albert Spalding'), 1894: (1894, 'Africa Alphabet'), 1896: (1896, 'Acquire'), 1897: (1897, 'Australian English'), 1902: (1902, 'American Airlines Flight 77'), 1905: (1905, 'Ambush'), 1908: (1908, 'Abzyme'), 1909: (1909, 'Adaptive radiation'), 1910: (1910, 'Agarose gel electrophoresis'), 1911: (1911, 'Allele'), 1912: (1912, 'Ampicillin'), 1913: (1913, 'Annealing'), 1914: (1914, 'Antimicrobial resistance'), 1915: (1915, 'Antigen'), 1916: (1916, 'Autosome'), 1919: (1919, 'Antwerp (disambiguation)'), 1920: (1920, 'Aquila'), 1921: (1921, 'Al-Qaeda'), 1923: (1923, 'Alessandro Volta'), 1924: (1924, 'Argo Navis'), 1925: (1925, 'Andromeda (mythology)'), 1926: (1926, 'Antlia'), 1927: (1927, 'Ara (constellation)'), 1928: (1928, 'Auriga'), 1930: (1930, 'Arkansas'), 1931: (1931, 'Atmosphere (disambiguation)'), 1933: (1933, 'Apus'), 1934: (1934, 'Abadan, Iran'), 1935: (1935, 'Attorney'), 1937: (1937, 'Alexander Fleming'), 1938: (1938, 'Andrew Carnegie'), 1939: (1939, 'Approximant'), 1940: (1940, 'Astronomer Royal'), 1941: (1941, 'Aeon'), 1942: (1942, 'Airline'), 1943: (1943, 'Australian Democrats'), 1944: (1944, 'Australian Capital Territory'), 1946: (1946, 'Unit of alcohol'), 1947: (1947, 'Aotus'), 1948: (1948, 'Ally McBeal'), 1949: (1949, 'Andreas Capellanus'), 1950: (1950, 'American Civil Liberties Union'), 1955: (1955, 'Adobe Inc.'), 1957: (1957, 'Alexander Technique'), 1960: (1960, 'Andrea Alciato'), 1962: (1962, 'Apparent magnitude'), 1963: (1963, 'Absolute magnitude'), 1965: (1965, 'Apollo 1'), 1966: (1966, 'Apollo 10'), 1967: (1967, 'Apollo 12'), 1968: (1968, 'Apollo 14'), 1969: (1969, 'Apollo 15'), 1970: (1970, 'Apollo 16'), 1971: (1971, 'Apollo 17'), 1973: (1973, 'American Revolution'), 1974: (1974, 'April 17'), 1975: (1975, 'Alan Ayckbourn'), 1979: (1979, 'Alpha Centauri'), 1980: (1980, 'Amiga'), 1985: (1985, 'Absorption'), 1986: (1986, 'Actinophryid'), 1988: (1988, 'Abel Tasman'), 1990: (1990, 'August 5'), 1991: (1991, 'Angula'), 1994: (1994, 'ASP'), 1997: (1997, 'Algebraic geometry'), 1998: (1998, 'Austin, Texas'), 2003: (2003, 'Argument from morality'), 2004: (2004, 'ASL (disambiguation)'), 2006: (2006, 'Auschwitz concentration camp'), 2007: (2007, 'Archery'), 2009: (2009, 'Alvar Aalto'), 2011: (2011, 'Comparison of American and British English'), 2014: (2014, 'Atomic semantics'), 2015: (2015, 'Antarctic Circumpolar Current'), 2017: (2017, 'Arbor Day'), 2018: (2018, 'A. J. Ayer'), 2019: (2019, 'André Weil'), 2020: (2020, 'Achaeans (Homer)'), 2021: (2021, 'Atle Selberg'), 2023: (2023, 'Aeschylus'), 2024: (2024, 'Amber Road'), 2025: (2025, 'Crandall University'), 2027: (2027, 'Andrew Wiles'), 2028: (2028, 'Ambient'), 2029: (2029, 'Anne Brontë'), 2030: (2030, 'Augustine of Hippo'), 2032: (2032, 'Acting'), 2037: (2037, 'Delian League'), 2038: (2038, 'August Horch'), 2039: (2039, 'Avionics'), 2041: (2041, 'Ares'), 2042: (2042, 'Alexander Grothendieck'), 2047: (2047, 'Alcoholics Anonymous'), 2049: (2049, 'Alpha compositing'), 2052: (2052, 'Array data structure'), 2053: (2053, 'Advance Australia Fair'), 2061: (2061, 'Automatic number announcement circuit'), 2062: (2062, 'Amerigo Vespucci'), 2063: (2063, 'Aristide Maillol'), 2064: (2064, 'Antonio Canova'), 2065: (2065, 'Auguste Rodin'), 2067: (2067, 'Ann Arbor, Michigan'), 2070: (2070, 'Act of Settlement 1701'), 2075: (2075, 'Aircraft hijacking'), 2076: (2076, 'Acropolis of Athens'), 2077: (2077, 'Adam Weishaupt'), 2078: (2078, 'Acorn Electron'), 2080: (2080, 'A Fire Upon the Deep'), 2082: (2082, 'Aeronautics'), 2083: (2083, 'Auguste and Louis Lumière'), 2084: (2084, 'Acts of the Apostles'), 2085: (2085, 'Assyria'), 2086: (2086, 'Abijah'), 2087: (2087, 'Ark'), 2088: (2088, 'Aphasia'), 2089: (2089, 'Aorta'), 2093: (2093, 'Abimelech'), 2099: (2099, 'Andrew Tridgell'), 2100: (2100, 'Applesoft BASIC'), 2101: (2101, 'Asterix'), 2102: (2102, 'Arizona Cardinals'), 2103: (2103, 'Atlanta Falcons'), 2104: (2104, 'Heathenry in the United States'), 2106: (2106, 'Ansible'), 2108: (2108, 'Adalbert of Prague'), 2110: (2110, 'Ælfheah of Canterbury'), 2112: (2112, 'Associative algebra'), 2113: (2113, 'Axiom of regularity'), 2114: (2114, 'IBM AIX'), 2115: (2115, 'AppleTalk'), 2116: (2116, 'Apple II series'), 2117: (2117, 'Apple III'), 2118: (2118, 'AVL tree'), 2120: (2120, 'Aliphatic compound'), 2122: (2122, 'Astrology'), 2123: (2123, 'Abyssinia (disambiguation)'), 2125: (2125, 'Algebraic extension'), 2126: (2126, 'Ani DiFranco'), 2127: (2127, 'Arene (disambiguation)'), 2129: (2129, 'Arizona Diamondbacks'), 2130: (2130, 'Aesthetics'), 2134: (2134, 'Ark of the Covenant'), 2136: (2136, 'Angles'), 2137: (2137, 'Aster CT-80'), 2138: (2138, 'Arthur Wellesley'), 2139: (2139, 'Lists of animated television series'), 2140: (2140, 'Atlanta Braves'), 2141: (2141, 'Atari ST'), 2142: (2142, 'List of artificial intelligence projects'), 2144: (2144, 'Aaliyah'), 2147: (2147, 'Armour'), 2148: (2148, 'Armoured fighting vehicle'), 2151: (2151, 'Anton Drexler'), 2152: (2152, 'All Quiet on the Western Front'), 2154: (2154, 'African Americans'), 2161: (2161, 'Artistic License'), 2162: (2162, 'Afrikaans'), 2163: (2163, 'Aeolus'), 2166: (2166, 'ABC'), 2167: (2167, 'Alford plea'), 2170: (2170, 'ABCD'), 2171: (2171, 'Anti-realism'), 2174: (2174, 'Arsenal F.C.'), 2175: (2175, 'American cuisine'), 2176: (2176, 'Ahmad Shah Massoud'), 2178: (2178, 'Atlantis'), 2179: (2179, 'Autobiography'), 2180: (2180, 'Arcadius'), 2185: (2185, 'Arabs'), 2186: (2186, 'Armadillo'), 2187: (2187, 'Antisemitism in the Arab world'), 2192: (2192, 'August 11'), 2193: (2193, 'Arcology'), 2194: (2194, 'April 5'), 2195: (2195, 'April 20'), 2196: (2196, 'April 19'), 2197: (2197, 'Amstrad CPC'), 2198: (2198, 'Abdulaziz al-Omari'), 2201: (2201, 'Aage Bohr'), 2202: (2202, 'Analytic geometry'), 2204: (2204, 'Arabic alphabet'), 2207: (2207, 'Angels in art'), 2208: (2208, 'Arctic fox'), 2209: (2209, 'Anglo-Saxon (disambiguation)'), 2210: (2210, 'Folklore of the United States'), 2215: (2215, \"Sid Meier's Alpha Centauri\"), 2216: (2216, 'Abu Sayyaf'), 2217: (2217, 'Armenian language'), 2218: (2218, 'Additive synthesis'), 2219: (2219, 'Aircraft carrier'), 2221: (2221, 'Apicomplexa'), 2222: (2222, 'Argentine cuisine'), 2224: (2224, 'April 8'), 2226: (2226, 'Ad hominem'), 2230: (2230, 'Analysis of algorithms'), 2233: (2233, 'Ælle of Sussex'), 2234: (2234, 'Atari'), 2235: (2235, 'Afghan'), 2236: (2236, 'Acadia University'), 2237: (2237, 'Steel-string acoustic guitar'), 2238: (2238, 'Antipope John XXIII'), 2241: (2241, 'Antonio Salieri'), 2244: (2244, 'Cobble Hill Tunnel'), 2245: (2245, 'Annapolis Valley'), 2246: (2246, 'Analgesic'), 2250: (2250, 'Abiotic stress'), 2251: (2251, 'Accusative case'), 2257: (2257, 'Apostolic succession'), 2268: (2268, 'Chemistry of ascorbic acid'), 2273: (2273, 'AFC Ajax'), 2274: (2274, 'Arthur Eddington'), 2275: (2275, 'Apple II'), 2279: (2279, 'April 3'), 2282: (2282, 'Alexis Korner'), 2284: (2284, 'Assault gun'), 2286: (2286, 'Tank destroyer'), 2287: (2287, 'Armored car (military)'), 2288: (2288, 'Self-propelled anti-aircraft weapon'), 2289: (2289, 'AZ Alkmaar'), 2296: (2296, 'Adrenal gland'), 2299: (2299, 'A360media'), 2303: (2303, 'Aramaic'), 2304: (2304, 'Saint Titus'), 2308: (2308, 'Actinide'), 2310: (2310, 'Arthur Miller'), 2313: (2313, 'Anton Diabelli'), 2314: (2314, 'Anita Hill'), 2315: (2315, 'August 10'), 2316: (2316, 'Audio file format'), 2319: (2319, 'Antipope Victor IV'), 2321: (2321, 'Area 51'), 2322: (2322, 'Audio signal processing'), 2323: (2323, \"Amdahl's law\"), 2326: (2326, 'April 27'), 2328: (2328, 'Ayahuasca'), 2329: (2329, 'Alfonso Leng'), 2330: (2330, 'Abbe number'), 2331: (2331, 'ACN'), 2332: (2332, 'AD (disambiguation)'), 2333: (2333, 'Ablative case'), 2335: (2335, 'Adamic language'), 2338: (2338, 'Rise and Fall of the City of Mahagonny'), 2339: (2339, 'Avery Hopwood'), 2340: (2340, 'Antipope Felix II'), 2341: (2341, 'Alkaloid'), 2343: (2343, 'Adventism'), 2345: (2345, 'Archbishop of Canterbury'), 2346: (2346, 'Albion, Michigan'), 2348: (2348, 'Anointing of the sick'), 2349: (2349, 'Abstract data type'), 2357: (2357, 'American Football League'), 2358: (2358, 'A.S. Roma'), 2360: (2360, 'Abu Nidal Organization'), 2362: (2362, 'Antibody'), 2363: (2363, 'Alessandro Scarlatti'), 2369: (2369, 'Aston Martin'), 2371: (2371, 'Albert Pike'), 2372: (2372, 'ALF Tales'), 2376: (2376, 'Abdul Rashid Dostum'), 2377: (2377, 'Andhra Pradesh'), 2380: (2380, 'Accelerated Graphics Port'), 2381: (2381, 'Andreas Aagesen'), 2382: (2382, 'Aalen'), 2383: (2383, 'Alois Alzheimer'), 2384: (2384, 'Aedile'), 2386: (2386, 'American Airlines'), 2388: (2388, 'Antidepressant'), 2389: (2389, 'Auger effect'), 2391: (2391, 'Akio Morita'), 2392: (2392, 'Anode'), 2393: (2393, 'Analog television'), 2395: (2395, 'April 11'), 2396: (2396, 'Adhesive'), 2397: (2397, 'Anthony Hopkins'), 2398: (2398, \"Ardal O'Hanlon\"), 2400: (2400, 'Advanced Micro Devices'), 2402: (2402, 'Albrecht Dürer'), 2403: (2403, 'Australian rules football'), 2405: (2405, 'Aon (company)'), 2406: (2406, 'Alban Berg'), 2408: (2408, 'Analytical chemistry'), 2411: (2411, 'A cappella'), 2414: (2414, 'Arrangement'), 2416: (2416, 'Athanasian Creed'), 2417: (2417, 'Alicante'), 2418: (2418, 'August 4'), 2421: (2421, 'Albrecht Achilles'), 2422: (2422, 'Ann Widdecombe'), 2425: (2425, 'Aurangzeb'), 2427: (2427, 'Alexandrine'), 2428: (2428, 'Analog computer'), 2429: (2429, 'Audio'), 2431: (2431, 'Minute and second of arc'), 2433: (2433, 'Alberto Giacometti'), 2439: (2439, 'Anthem'), 2440: (2440, 'Albrecht Altdorfer'), 2441: (2441, 'House of Ascania'), 2443: (2443, 'Acceleration'), 2444: (2444, 'Conservation and restoration of cultural property'), 2447: (2447, 'Anton Chekhov'), 2448: (2448, 'Action Against Hunger'), 2452: (2452, 'AW'), 2457: (2457, 'Apoptosis')}\n"
          ]
        }
      ]
    },
    {
      "cell_type": "markdown",
      "source": [
        "term frequancy"
      ],
      "metadata": {
        "id": "niqNRBSpMIiR"
      }
    },
    {
      "cell_type": "markdown",
      "source": [
        "below is a function that calculates tf for a single text"
      ],
      "metadata": {
        "id": "VIyoLI3GW6y8"
      }
    },
    {
      "cell_type": "code",
      "source": [
        "english_stopwords = frozenset(stopwords.words('english'))\n",
        "corpus_stopwords = ['category', 'references', 'also', 'links', 'extenal', 'see', 'thumb']\n",
        "RE_WORD = re.compile(r\"\"\"[\\#\\@\\w](['\\-]?\\w){2,24}\"\"\", re.UNICODE)\n",
        "\n",
        "all_stopwords = english_stopwords.union(corpus_stopwords)\n",
        "\n",
        "def word_count(text, id):\n",
        "  ''' Count the frequency of each word in `text` (tf) that is not included in \n",
        "  `all_stopwords` and return entries that will go into our posting lists. \n",
        "  Parameters:\n",
        "  -----------\n",
        "    text: str\n",
        "      Text of one document\n",
        "    id: int\n",
        "      Document id\n",
        "  Returns:\n",
        "  --------\n",
        "    List of tuples\n",
        "      A list of (token, (doc_id, tf)) pairs \n",
        "      for example: [(\"Anarchism\", (12, 5)), ...]\n",
        "  '''\n",
        "  tokens = [token.group() for token in RE_WORD.finditer(text.lower())]\n",
        "  ret_list = []\n",
        "  counter = Counter(tokens)\n",
        "  for token in counter:\n",
        "    if token not in all_stopwords:\n",
        "        ret_list.append((token, (id, counter[token])))\n",
        "  return ret_list"
      ],
      "metadata": {
        "id": "TAzkf1oVCdI8"
      },
      "execution_count": 29,
      "outputs": []
    },
    {
      "cell_type": "code",
      "source": [
        "wc_title = doc_title_pairs.flatMap(lambda x: word_count(x[0], x[1]))"
      ],
      "metadata": {
        "id": "ixsWKnmuG0S5"
      },
      "execution_count": 30,
      "outputs": []
    },
    {
      "cell_type": "code",
      "source": [
        "def reduce_word_counts(unsorted_pl):\n",
        "  ''' Returns a sorted posting list by wiki_id.\n",
        "  Parameters:\n",
        "  -----------\n",
        "    unsorted_pl: list of tuples\n",
        "      A list of (wiki_id, tf) tuples \n",
        "  Returns:\n",
        "  --------\n",
        "    list of tuples\n",
        "      A sorted posting list.\n",
        "  '''\n",
        "  return sorted(unsorted_pl)"
      ],
      "metadata": {
        "id": "mBUiJj3JGxlc"
      },
      "execution_count": 31,
      "outputs": []
    },
    {
      "cell_type": "code",
      "source": [
        "postings_for_title = wc_title.groupByKey().mapValues(reduce_word_counts)\n",
        "print(postings_for_title.take(50))"
      ],
      "metadata": {
        "id": "RF3UlYasYgIx",
        "colab": {
          "base_uri": "https://localhost:8080/"
        },
        "outputId": "0ee7dcd3-0b6a-4bb6-91e6-b563d2421030"
      },
      "execution_count": 32,
      "outputs": [
        {
          "output_type": "stream",
          "name": "stdout",
          "text": [
            "[('anarchism', [(12, 1)]), ('autism', [(25, 1)]), ('albedo', [(39, 1)]), ('alabama', [(303, 1), (1285, 1), (1286, 1), (1484, 1)]), ('achilles', [(305, 1), (2421, 1)]), ('abraham', [(307, 1), (1436, 1)]), ('lincoln', [(307, 1)]), ('aristotle', [(308, 1)]), ('american', [(309, 1), (615, 1), (659, 1), (771, 1), (863, 1), (869, 1), (966, 1), (1110, 1), (1111, 1), (1112, 1), (1201, 1), (1241, 1), (1488, 1), (1558, 1), (1890, 1), (1902, 1), (1950, 1), (1973, 1), (2011, 1), (2175, 1), (2357, 1), (2386, 1)]), ('paris', [(309, 1)]), ('academy', [(316, 1), (324, 1)]), ('award', [(316, 1)]), ('best', [(316, 1)]), ('production', [(316, 1)]), ('design', [(316, 1)]), ('awards', [(324, 1)]), ('actrius', [(330, 1)]), ('animalia', [(332, 1)]), ('book', [(332, 1), (1726, 1)]), ('international', [(334, 1)]), ('atomic', [(334, 1), (673, 1), (1194, 1), (1200, 1), (1206, 1), (2014, 1)]), ('time', [(334, 1), (1638, 1)]), ('altruism', [(336, 1)]), ('ayn', [(339, 1)]), ('rand', [(339, 1)]), ('alain', [(340, 1), (1485, 1)]), ('connes', [(340, 1)]), ('allan', [(344, 1)]), ('dwan', [(344, 1)]), ('algeria', [(358, 1)]), ('list', [(359, 1), (728, 1), (1286, 1), (2142, 1)]), ('atlas', [(359, 1), (780, 1)]), ('shrugged', [(359, 1)]), ('characters', [(359, 1)]), ('anthropology', [(569, 1)]), ('agricultural', [(572, 1)]), ('science', [(572, 1)]), ('alchemy', [(573, 1)]), ('alien', [(579, 1)]), ('astronomer', [(580, 1), (1940, 1)]), ('ascii', [(586, 1), (1884, 1)]), ('austin', [(590, 1), (1998, 1)]), ('disambiguation', [(590, 1), (632, 1), (661, 1), (679, 1), (694, 1), (780, 1), (1155, 1), (1184, 1), (1391, 1), (1501, 1), (1597, 1), (1919, 1), (1931, 1), (2004, 1), (2123, 1), (2127, 1), (2209, 1), (2332, 1)]), ('animation', [(593, 1)]), ('apollo', [(594, 1), (662, 1), (663, 1), (1461, 1), (1770, 1), (1773, 1), (1774, 1), (1965, 1), (1966, 1), (1967, 1), (1968, 1), (1969, 1), (1970, 1), (1971, 1)]), ('andre', [(595, 1)]), ('agassi', [(595, 1)]), ('austroasiatic', [(597, 1)]), ('languages', [(597, 1), (599, 1), (824, 1)]), ('afroasiatic', [(599, 1)])]\n"
          ]
        }
      ]
    },
    {
      "cell_type": "code",
      "source": [
        "# pft_filtered = postings_for_title.filter(lambda x: len(x[1])>1)\n",
        "# pft_filtered = postings_for_title"
      ],
      "metadata": {
        "id": "HseUXO2FYjgl"
      },
      "execution_count": 33,
      "outputs": []
    },
    {
      "cell_type": "code",
      "source": [
        "def calculate_df(postings):\n",
        "  ''' Takes a posting list RDD and calculate the df for each token.\n",
        "  Parameters:\n",
        "  -----------\n",
        "    postings: RDD\n",
        "      An RDD where each element is a (token, posting_list) pair.\n",
        "  Returns:\n",
        "  --------\n",
        "    RDD\n",
        "      An RDD where each element is a (token, df) pair.\n",
        "  '''\n",
        "  ret = postings.map(lambda x: (x[0], len(x[1])))\n",
        "  print(ret.take(5))\n",
        "  return ret"
      ],
      "metadata": {
        "id": "VcQmCK_N48Qm"
      },
      "execution_count": 34,
      "outputs": []
    },
    {
      "cell_type": "code",
      "source": [
        "df_for_title = calculate_df(postings_for_title)"
      ],
      "metadata": {
        "id": "SC9n5tY-5Bb7",
        "colab": {
          "base_uri": "https://localhost:8080/"
        },
        "outputId": "2cf42c28-7d20-4197-8d64-8cc0ef109d40"
      },
      "execution_count": 35,
      "outputs": [
        {
          "output_type": "stream",
          "name": "stdout",
          "text": [
            "[('anarchism', 1), ('autism', 1), ('albedo', 1), ('alabama', 4), ('achilles', 2)]\n"
          ]
        }
      ]
    },
    {
      "cell_type": "code",
      "source": [
        "df_for_title_dict = df_for_title.collectAsMap()"
      ],
      "metadata": {
        "id": "QlqJ_SQK5Dfc"
      },
      "execution_count": 36,
      "outputs": []
    },
    {
      "cell_type": "code",
      "source": [
        "NUM_BUCKETS = 124\n",
        "def token2bucket_id(token):\n",
        "  return int(_hash(token),16) % NUM_BUCKETS\n",
        "\n",
        "def partition_postings_and_write(postings):\n",
        "  ''' A function that partitions the posting lists into buckets, writes out \n",
        "  all posting lists in a bucket to disk, and returns the posting locations for \n",
        "  each bucket. Partitioning should be done through the use of `token2bucket` \n",
        "  above. Writing to disk should use the function  `write_a_posting_list`, a \n",
        "  static method implemented in inverted_index_colab.py under the InvertedIndex \n",
        "  class. \n",
        "  Parameters:\n",
        "  -----------\n",
        "    postings: RDD\n",
        "      An RDD where each item is a (w, posting_list) pair.\n",
        "  Returns:\n",
        "  --------\n",
        "    RDD\n",
        "      An RDD where each item is a posting locations dictionary for a bucket. The\n",
        "      posting locations maintain a list for each word of file locations and \n",
        "      offsets its posting list was written to. See `write_a_posting_list` for \n",
        "      more details.\n",
        "  '''\n",
        "  print(postings.take(2))\n",
        "  partitions = postings.groupBy(lambda x : token2bucket_id(x[0]))\n",
        "  mapp = partitions.map(lambda x : InvertedIndex.write_a_posting_list(x))\n",
        "  return mapp"
      ],
      "metadata": {
        "id": "MZ9SiFSx5ROx"
      },
      "execution_count": 37,
      "outputs": []
    },
    {
      "cell_type": "code",
      "source": [
        "posting_locs_list_title = partition_postings_and_write(postings_for_title).collect()"
      ],
      "metadata": {
        "id": "9Uu_Dz3r5U3m",
        "colab": {
          "base_uri": "https://localhost:8080/"
        },
        "outputId": "9c2d79b6-c611-4b1a-e2c9-3522d596a5c9"
      },
      "execution_count": 38,
      "outputs": [
        {
          "output_type": "stream",
          "name": "stdout",
          "text": [
            "[('anarchism', [(12, 1)]), ('autism', [(25, 1)])]\n"
          ]
        }
      ]
    },
    {
      "cell_type": "code",
      "source": [
        "super_posting_locs_title = defaultdict(list)\n",
        "for posting_loc in posting_locs_list_title:\n",
        "  for k, v in posting_loc.items():\n",
        "    super_posting_locs_title[k].extend(v)"
      ],
      "metadata": {
        "id": "P5xf-ZvD5hwc"
      },
      "execution_count": 39,
      "outputs": []
    },
    {
      "cell_type": "code",
      "source": [
        "# Create inverted index instance\n",
        "inverted_title = InvertedIndex()\n",
        "# Adding the posting locations dictionary to the inverted index\n",
        "inverted_title.posting_locs = super_posting_locs_title\n",
        "# Add the token - df dictionary to the inverted index\n",
        "inverted_title.df = df_for_title_dict\n",
        "# Add the id - title dictionary to the inverted index\n",
        "inverted_title.wikiid_title = doc_title_dict\n",
        "# write the global stats out\n",
        "inverted_title.write_index('.', 'title_index')"
      ],
      "metadata": {
        "id": "X94vAAE55jCt"
      },
      "execution_count": 40,
      "outputs": []
    },
    {
      "cell_type": "code",
      "source": [
        "TUPLE_SIZE = 6       \n",
        "TF_MASK = 2 ** 16 - 1 # Masking the 16 low bits of an integer\n",
        "from contextlib import closing\n",
        "\n",
        "def read_posting_list(inverted, w):\n",
        "  with closing(MultiFileReader()) as reader:\n",
        "    locs = inverted.posting_locs[w]\n",
        "    b = reader.read(locs, inverted.df[w] * TUPLE_SIZE)\n",
        "    posting_list = []\n",
        "    x = inverted.df[w]\n",
        "    print(x)\n",
        "    for i in range(inverted.df[w]):\n",
        "      doc_id = int.from_bytes(b[i*TUPLE_SIZE:i*TUPLE_SIZE+4], 'big')\n",
        "      # print(doc_id)\n",
        "      tf = int.from_bytes(b[i*TUPLE_SIZE+4:(i+1)*TUPLE_SIZE], 'big')\n",
        "      # print(tf)\n",
        "      posting_list.append((doc_id, tf))\n",
        "    return posting_list"
      ],
      "metadata": {
        "id": "UE1JxgmY5k5n"
      },
      "execution_count": 41,
      "outputs": []
    },
    {
      "cell_type": "code",
      "source": [
        "## test the final index\n",
        "pl2 = read_posting_list(inverted_title, 'american')\n",
        "print(pl2)"
      ],
      "metadata": {
        "colab": {
          "base_uri": "https://localhost:8080/"
        },
        "id": "cM5RUghGIbBz",
        "outputId": "dd60c7d0-a3f9-47be-c163-eb4e6b416173"
      },
      "execution_count": 42,
      "outputs": [
        {
          "output_type": "stream",
          "name": "stdout",
          "text": [
            "22\n",
            "[(309, 1), (615, 1), (659, 1), (771, 1), (863, 1), (869, 1), (966, 1), (1110, 1), (1111, 1), (1112, 1), (1201, 1), (1241, 1), (1488, 1), (1558, 1), (1890, 1), (1902, 1), (1950, 1), (1973, 1), (2011, 1), (2175, 1), (2357, 1), (2386, 1)]\n"
          ]
        }
      ]
    },
    {
      "cell_type": "code",
      "source": [
        "# returnes list of tuples : (token, tf_in_q)\n",
        "def tokenize_query(query):\n",
        "  tokens = [token.group() for token in RE_WORD.finditer(query.lower())]\n",
        "  # YOUR CODE HERE\n",
        "  ret_list = []\n",
        "  counter = Counter(tokens)\n",
        "  for token in counter:\n",
        "    if token not in all_stopwords:\n",
        "        ret_list.append((token,counter[token]))\n",
        "  return ret_list"
      ],
      "metadata": {
        "id": "ZGkBA-xYJNGt"
      },
      "execution_count": 43,
      "outputs": []
    },
    {
      "cell_type": "code",
      "source": [
        "def search_title(query):\n",
        "  tokenized_q = tokenize_query(query)\n",
        "  counter = Counter()\n",
        "  ret_list = []\n",
        "  for t in tokenized_q: \n",
        "    pl = read_posting_list(inverted_title, t[0])\n",
        "    ret = map(lambda x: x[0], pl)\n",
        "    counter.update(ret)\n",
        "  sorted_counter = counter.most_common()\n",
        "  print(sorted_counter)\n",
        "  for pair in sorted_counter:\n",
        "    ret_list.append(inverted_title.wikiid_title[pair[0]])\n",
        "  return ret_list\n",
        "\n",
        "search_title(\"Academy Award for\")\n",
        "\n"
      ],
      "metadata": {
        "id": "fajc0lncAyGj",
        "colab": {
          "base_uri": "https://localhost:8080/"
        },
        "outputId": "c25d9a6e-e478-4b32-d8df-c4e0451bb357"
      },
      "execution_count": 49,
      "outputs": [
        {
          "output_type": "stream",
          "name": "stdout",
          "text": [
            "2\n",
            "1\n",
            "[(316, 2), (324, 1)]\n"
          ]
        },
        {
          "output_type": "execute_result",
          "data": {
            "text/plain": [
              "[(316, 'Academy Award for Best Production Design'), (324, 'Academy Awards')]"
            ]
          },
          "metadata": {},
          "execution_count": 49
        }
      ]
    },
    {
      "cell_type": "code",
      "source": [
        ""
      ],
      "metadata": {
        "id": "3HxzurivYFUY"
      },
      "execution_count": 44,
      "outputs": []
    }
  ]
}